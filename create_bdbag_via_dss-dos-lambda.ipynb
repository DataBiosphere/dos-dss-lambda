{
 "cells": [
  {
   "cell_type": "markdown",
   "metadata": {},
   "source": [
    "# Creating a BDBag with DSS data object URLs using a `remote-file-manifest`"
   ]
  },
  {
   "cell_type": "markdown",
   "metadata": {},
   "source": [
    "The data in the DSS has been made available using the Data Object Service schemas, which provide an interoperable way for exposing replicated data and versioned data over a simple HTTP API.\n",
    "\n",
    "This is an exploratory project which takes HCA DSS Data Objects using the `dss-dos-lambda` and creates a `remote-file-manifest` (see README for details)."
   ]
  },
  {
   "cell_type": "markdown",
   "metadata": {},
   "source": [
    "## List DSS Data Bundles"
   ]
  },
  {
   "cell_type": "markdown",
   "metadata": {},
   "source": [
    "To access services over HTTP we use the requests module."
   ]
  },
  {
   "cell_type": "code",
   "execution_count": 1,
   "metadata": {
    "scrolled": false
   },
   "outputs": [
    {
     "name": "stdout",
     "output_type": "stream",
     "text": [
      "Service URL: https://ekivlnizh1.execute-api.us-west-2.amazonaws.com/api\n",
      "[{'id': 'e9556c3d-53cb-4c24-856e-951085735d45', 'version': '2018-06-07T001704'},\n",
      " {'id': '15a0ce60-261d-4bc1-8463-f4d87aa483f0', 'version': '2018-06-07T001659'},\n",
      " {'id': 'b7003567-37a6-4f70-8be3-0e8ee5c1f020', 'version': '2018-06-07T001844'},\n",
      " {'id': 'd1dca21c-71a3-466d-8690-1212c22491c3', 'version': '2018-06-07T001714'},\n",
      " {'id': '41680495-06a3-4963-9d2c-9280c6e9979b', 'version': '2018-06-07T001749'},\n",
      " {'id': 'c3a74a9d-aebb-4fcb-a664-c49f8abbaa8c', 'version': '2018-06-07T001808'},\n",
      " {'id': '4eb3190b-de14-4248-b143-65084c930741', 'version': '2018-06-07T001848'},\n",
      " {'id': 'c70c2f7d-5e68-468e-bc66-36e1c4caac80', 'version': '2018-06-07T001908'},\n",
      " {'id': '29d2be81-e0e0-484b-81ac-efa385f1e9bc', 'version': '2018-06-07T001812'},\n",
      " {'id': '65b0e718-6b30-4833-8039-526bd9ced487', 'version': '2018-06-07T001822'}]\n"
     ]
    }
   ],
   "source": [
    "from pprint import pprint\n",
    "import requests\n",
    "SERVICE_URL = \"https://ekivlnizh1.execute-api.us-west-2.amazonaws.com/api\"\n",
    "print(\"Service URL: {}\".format(SERVICE_URL))\n",
    "BASE_URL = \"ga4gh/dos/v1\"\n",
    "LIST_DATA_BUNDLES_URL = \"{}/{}/{}\".format(SERVICE_URL, BASE_URL, \"databundles\")\n",
    "data_bundles = requests.get(LIST_DATA_BUNDLES_URL).json()['data_bundles']\n",
    "pprint(data_bundles)"
   ]
  },
  {
   "cell_type": "markdown",
   "metadata": {},
   "source": [
    "### Create BDBag with the data object links in `fetch.txt` (of the bag) of all data objects in this list of data bundles"
   ]
  },
  {
   "cell_type": "markdown",
   "metadata": {},
   "source": [
    "Import the `make_bag` method, and pass it the list of the first three DSS Data Bundles, the service URL, and the base URL as arguments. It will create a BDBag in the current directory"
   ]
  },
  {
   "cell_type": "code",
   "execution_count": 2,
   "metadata": {},
   "outputs": [],
   "source": [
    "from remote_to_bag import make_bag\n",
    "make_bag(data_bundles[0:2], SERVICE_URL, BASE_URL)"
   ]
  },
  {
   "cell_type": "markdown",
   "metadata": {},
   "source": [
    "Execution of `make_bag` has written a BDBag into the current directory."
   ]
  },
  {
   "cell_type": "code",
   "execution_count": 3,
   "metadata": {},
   "outputs": [
    {
     "name": "stdout",
     "output_type": "stream",
     "text": [
      "total 36\r\n",
      "-rw-rw-r-- 1 michael michael  289 Jul 20 16:14 bag-info.txt\r\n",
      "-rw-rw-r-- 1 michael michael   55 Jul 20 16:14 bagit.txt\r\n",
      "drwxrwxr-x 2 michael michael 4096 Jul 20 16:14 \u001b[0m\u001b[01;34mdata\u001b[0m/\r\n",
      "-rw-rw-r-- 1 michael michael  298 Jul 20 16:14 fetch.txt\r\n",
      "-rw-rw-r-- 1 michael michael  130 Jul 20 16:14 manifest-sha1.txt\r\n",
      "-rw-rw-r-- 1 michael michael  178 Jul 20 16:14 manifest-sha256.txt\r\n",
      "-rw-rw-r-- 1 michael michael  276 Jul 20 16:14 tagmanifest-sha1.txt\r\n",
      "-rw-rw-r-- 1 michael michael  396 Jul 20 16:14 tagmanifest-sha256.txt\r\n",
      "-rw-rw-r-- 1 michael michael  716 Jul 20 16:14 tagmanifest-sha512.txt\r\n"
     ]
    }
   ],
   "source": [
    "ls -l bag_path"
   ]
  },
  {
   "cell_type": "markdown",
   "metadata": {},
   "source": [
    "### Show the contents of `fetch.txt`. Observe that it contains URLs to the DSS Data Objects."
   ]
  },
  {
   "cell_type": "markdown",
   "metadata": {},
   "source": [
    "The BDbag data structure contains a file `fetch.txt`. The URLs to the DSS Data Objects are contained in this file."
   ]
  },
  {
   "cell_type": "code",
   "execution_count": 4,
   "metadata": {},
   "outputs": [
    {
     "name": "stdout",
     "output_type": "stream",
     "text": [
      "https://ekivlnizh1.execute-api.us-west-2.amazonaws.com/api/ga4gh/dos/v1/dataobjects/8ff23235-4435-4929-8fb2-5d55b4564999\t5897\tdata/dss_data_object_0\r\n",
      "https://ekivlnizh1.execute-api.us-west-2.amazonaws.com/api/ga4gh/dos/v1/dataobjects/ceaa54b6-ab4b-48ed-8a08-9ca24d3acc0e\t5895\tdata/dss_data_object_3\r\n"
     ]
    }
   ],
   "source": [
    "!cat bag_path/fetch.txt"
   ]
  },
  {
   "cell_type": "markdown",
   "metadata": {},
   "source": [
    "### Clean up..."
   ]
  },
  {
   "cell_type": "code",
   "execution_count": 5,
   "metadata": {},
   "outputs": [],
   "source": [
    "import os\n",
    "import shutil\n",
    "if os.path.isdir('bag_path'):\n",
    "    shutil.rmtree('bag_path')"
   ]
  },
  {
   "cell_type": "code",
   "execution_count": null,
   "metadata": {},
   "outputs": [],
   "source": []
  }
 ],
 "metadata": {
  "kernelspec": {
   "display_name": ".venv",
   "language": "python",
   "name": ".venv"
  },
  "language_info": {
   "codemirror_mode": {
    "name": "ipython",
    "version": 3
   },
   "file_extension": ".py",
   "mimetype": "text/x-python",
   "name": "python",
   "nbconvert_exporter": "python",
   "pygments_lexer": "ipython3",
   "version": "3.6.6"
  }
 },
 "nbformat": 4,
 "nbformat_minor": 2
}
