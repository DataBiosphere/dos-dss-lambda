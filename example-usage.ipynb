{
 "cells": [
  {
   "cell_type": "markdown",
   "metadata": {},
   "source": [
    "# Accessing DSS via DOS"
   ]
  },
  {
   "cell_type": "markdown",
   "metadata": {},
   "source": [
    "Data in the HCA DSS can be accessed using ga4gh methods."
   ]
  },
  {
   "cell_type": "code",
   "execution_count": 53,
   "metadata": {},
   "outputs": [],
   "source": [
    "from ga4gh.dos.client import Client\n",
    "client = Client(\"https://spbnq0bc10.execute-api.us-west-2.amazonaws.com/api\")\n",
    "lc = local_client = client.client\n",
    "models = client.models"
   ]
  },
  {
   "cell_type": "markdown",
   "metadata": {},
   "source": [
    "List the data bundles offered by the service."
   ]
  },
  {
   "cell_type": "code",
   "execution_count": 54,
   "metadata": {},
   "outputs": [],
   "source": [
    "data_bundles = lc.ListDataBundles(body={}).result().data_bundles"
   ]
  },
  {
   "cell_type": "code",
   "execution_count": 55,
   "metadata": {},
   "outputs": [
    {
     "name": "stdout",
     "output_type": "stream",
     "text": [
      "06c4bd47-c8e2-5045-8bae-bfad24633c87\n"
     ]
    }
   ],
   "source": [
    "print(data_bundles[0].id)"
   ]
  },
  {
   "cell_type": "markdown",
   "metadata": {},
   "source": [
    "### Get a page of results."
   ]
  },
  {
   "cell_type": "code",
   "execution_count": 56,
   "metadata": {},
   "outputs": [],
   "source": [
    "ListDataBundles = models.get_model('ga4ghListDataBundlesRequest')\n",
    "request = ListDataBundles(page_size=10)\n",
    "response = lc.ListDataBundles(body=request).result()"
   ]
  },
  {
   "cell_type": "code",
   "execution_count": 57,
   "metadata": {},
   "outputs": [
    {
     "data": {
      "text/plain": [
       "u'DnF1ZXJ5VGhlbkZldGNoBQAAAAAACiO8FmhEQWY2dm5fVG0yWDZuT2piTkt1S0EAAAAAAAojvxZoREFmNnZuX1RtMlg2bk9qYk5LdUtBAAAAAAAKI8AWaERBZjZ2bl9UbTJYNm5PamJOS3VLQQAAAAAACiO9FmhEQWY2dm5fVG0yWDZuT2piTkt1S0EAAAAAAAojvhZoREFmNnZuX1RtMlg2bk9qYk5LdUtB'"
      ]
     },
     "execution_count": 57,
     "metadata": {},
     "output_type": "execute_result"
    }
   ],
   "source": [
    "len(response.data_bundles)\n",
    "response.next_page_token[0]"
   ]
  },
  {
   "cell_type": "markdown",
   "metadata": {},
   "source": [
    "### Get the next page of results."
   ]
  },
  {
   "cell_type": "code",
   "execution_count": 58,
   "metadata": {},
   "outputs": [],
   "source": [
    "request = ListDataBundles(page_size=10, page_token=response.next_page_token[0])\n",
    "page_2 = lc.ListDataBundles(body=request).result()"
   ]
  },
  {
   "cell_type": "code",
   "execution_count": 59,
   "metadata": {},
   "outputs": [
    {
     "name": "stdout",
     "output_type": "stream",
     "text": [
      "page 1\n",
      "06c4bd47-c8e2-5045-8bae-bfad24633c87\n",
      "0d6371a8-fc4f-5232-9660-e655903b17ea\n",
      "0e727062-7fc9-5e46-b1e3-24537426ca4c\n",
      "2277b3fc-5a75-5782-86a0-c29f13844e7d\n",
      "139f30ba-62d3-50fb-9177-ab3d370e29f8\n",
      "1ecf1c35-9e1e-55ef-8f42-71102c3abc33\n",
      "44a8837b-4456-5709-b56b-54e23000f13a\n",
      "108c3839-a48e-53d8-a765-e7bfa5da6c81\n",
      "233bc61e-e9e8-5f75-a8d9-189cfced36fe\n",
      "28bebda7-14b1-5c47-b9b7-52540f091866\n",
      "page 2\n",
      "108c3839-a48e-53d8-a765-e7bfa5da6c81\n",
      "46e29f86-2983-5658-9f93-5f8aea24a4a2\n",
      "492054ee-31e5-5516-ae96-fbba12fbc73d\n",
      "4a51ff38-f4ea-5599-b752-8e65724864db\n",
      "014a9de5-cb88-5e37-a196-b6e3ab30fff6\n",
      "0583d98e-b079-51ae-affc-1c2d6200c84d\n",
      "1111ec7b-675d-5c00-8aa4-7eea28f2b846\n",
      "0a5f13d7-a1f5-55f6-994f-48f252ac61c7\n",
      "1111ec7b-675d-5c00-8aa4-7eea28f2b846\n",
      "197bc047-e917-55ed-852d-d563cdbc50e4\n"
     ]
    }
   ],
   "source": [
    "print('page 1')\n",
    "print(\"\\n\".join([x.id for x in response.data_bundles]))\n",
    "print('page 2')\n",
    "print(\"\\n\".join([x.id for x in page_2.data_bundles]))"
   ]
  },
  {
   "cell_type": "markdown",
   "metadata": {},
   "source": [
    "## Inspect a Data Bundle"
   ]
  },
  {
   "cell_type": "code",
   "execution_count": 77,
   "metadata": {},
   "outputs": [],
   "source": [
    "data_bundle = lc.GetDataBundle(data_bundle_id=data_bundles[0].id).result().data_bundle"
   ]
  },
  {
   "cell_type": "code",
   "execution_count": 79,
   "metadata": {},
   "outputs": [
    {
     "name": "stdout",
     "output_type": "stream",
     "text": [
      "06c4bd47-c8e2-5045-8bae-bfad24633c87\n",
      "06c4bd47-c8e2-5045-8bae-bfad24633c87\n"
     ]
    }
   ],
   "source": [
    "print(data_bundles[0].id)\n",
    "print(data_bundle.id)"
   ]
  },
  {
   "cell_type": "code",
   "execution_count": 80,
   "metadata": {},
   "outputs": [
    {
     "name": "stdout",
     "output_type": "stream",
     "text": [
      "1311414e-9f12-4596-99bd-6b06cac69025\n",
      "40628e8c-6456-4d72-8600-91691cb1833d\n",
      "8f3784cd-3e3f-4450-8861-e5a02c7ba554\n"
     ]
    }
   ],
   "source": [
    "print(\"\\n\".join(data_bundle.data_object_ids))"
   ]
  },
  {
   "cell_type": "markdown",
   "metadata": {},
   "source": [
    "## Download a Data Bundle"
   ]
  },
  {
   "cell_type": "code",
   "execution_count": 81,
   "metadata": {},
   "outputs": [],
   "source": [
    "import requests\n",
    "\n",
    "# https://stackoverflow.com/questions/16694907/how-to-download-large-file-in-python-with-requests-py\n",
    "def download_file(url, filename):\n",
    "    # NOTE the stream=True parameter\n",
    "    r = requests.get(url, stream=True)\n",
    "    with open(filename, 'wb') as f:\n",
    "        for chunk in r.iter_content(chunk_size=1024): \n",
    "            if chunk: # filter out keep-alive new chunks\n",
    "                f.write(chunk)\n",
    "                #f.flush() commented by recommendation from J.F.Sebastian\n",
    "    return filename\n"
   ]
  },
  {
   "cell_type": "code",
   "execution_count": 93,
   "metadata": {},
   "outputs": [],
   "source": [
    "data_object = lc.GetDataObject(\n",
    "    data_object_id=data_bundle.data_object_ids[2]).result().data_object"
   ]
  },
  {
   "cell_type": "code",
   "execution_count": 94,
   "metadata": {},
   "outputs": [
    {
     "name": "stdout",
     "output_type": "stream",
     "text": [
      "https://commons-dss.ucsc-cgp-dev.org/v1/files/8f3784cd-3e3f-4450-8861-e5a02c7ba554?replica=aws\n"
     ]
    }
   ],
   "source": [
    "print(data_object.urls[0].url)"
   ]
  },
  {
   "cell_type": "code",
   "execution_count": 95,
   "metadata": {},
   "outputs": [
    {
     "name": "stdout",
     "output_type": "stream",
     "text": [
      "CPU times: user 32 ms, sys: 0 ns, total: 32 ms\n",
      "Wall time: 1.29 s\n"
     ]
    },
    {
     "data": {
      "text/plain": [
       "u'8f3784cd-3e3f-4450-8861-e5a02c7ba554'"
      ]
     },
     "execution_count": 95,
     "metadata": {},
     "output_type": "execute_result"
    }
   ],
   "source": [
    "%time download_file(data_object.urls[0].url, data_object.id)"
   ]
  },
  {
   "cell_type": "code",
   "execution_count": 96,
   "metadata": {},
   "outputs": [
    {
     "name": "stdout",
     "output_type": "stream",
     "text": [
      "{\r\n",
      "    \"center_name\": \"NYGC\",\r\n",
      "    \"donor_uuid\": \"b8284a5b-429d-5652-8247-0257f1e2f61d\",\r\n",
      "    \"program\": \"TOPMed\",\r\n",
      "    \"project\": \"HapMap\",\r\n",
      "    \"schema_version\": \"0.0.3\",\r\n",
      "    \"specimen\": [\r\n",
      "        {\r\n",
      "            \"samples\": [\r\n",
      "                {\r\n"
     ]
    }
   ],
   "source": [
    "!head $data_object.id"
   ]
  },
  {
   "cell_type": "code",
   "execution_count": null,
   "metadata": {},
   "outputs": [],
   "source": []
  }
 ],
 "metadata": {
  "kernelspec": {
   "display_name": "Python 2",
   "language": "python",
   "name": "python2"
  },
  "language_info": {
   "codemirror_mode": {
    "name": "ipython",
    "version": 2
   },
   "file_extension": ".py",
   "mimetype": "text/x-python",
   "name": "python",
   "nbconvert_exporter": "python",
   "pygments_lexer": "ipython2",
   "version": "2.7.12+"
  }
 },
 "nbformat": 4,
 "nbformat_minor": 2
}
